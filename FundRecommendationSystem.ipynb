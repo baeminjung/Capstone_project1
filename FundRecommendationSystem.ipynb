{
 "cells": [
  {
   "cell_type": "code",
   "execution_count": null,
   "metadata": {},
   "outputs": [],
   "source": [
    "'''\n",
    "# 다변인 선형회귀\n",
    "여러개의 변인: 수익률 예측 어느정도 되었으면 좋겠다고 입력\n",
    "-> 입력된 결과에 따라 표준편차 검사. 해당하는 위험도로 분류된 펀드들 보여준다.\n",
    "-> 이외에 소유형, 수수료비율, 펀드규모, 선택 안함 등 전체추천결과에서 분류하여 보임.\n",
    "-> 위험도를 선택하고 -> 원하는 펀드를 선택하면 -> 수익률예측?\n",
    "펀드속성 - property\n",
    "보험사명 - insName\n",
    "펀드코드 - fCode\n",
    "펀드명 - fName\n",
    "기준가격 - price\n",
    "[수익률] \n",
    "1년 - earn1\n",
    "3년 - earn3\n",
    "5년 - earn5\n",
    "수수료 : fee\n",
    "펀드분류코드: fClassCode\n",
    "대유형: largeType\n",
    "소유형: smallType\n",
    "펀드규모:fSize\n",
    "운용사: manager\n",
    "수탁사:trustee\n",
    "위험등급:riskClass\n",
    "표준편차:earnDev\n",
    "'''\n"
   ]
  }
 ],
 "metadata": {
  "kernelspec": {
   "display_name": "Python 3",
   "language": "python",
   "name": "python3"
  },
  "language_info": {
   "codemirror_mode": {
    "name": "ipython",
    "version": 3
   },
   "file_extension": ".py",
   "mimetype": "text/x-python",
   "name": "python",
   "nbconvert_exporter": "python",
   "pygments_lexer": "ipython3",
   "version": "3.8.5"
  }
 },
 "nbformat": 4,
 "nbformat_minor": 4
}
